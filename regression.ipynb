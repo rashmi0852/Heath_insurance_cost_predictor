{
 "cells": [
  {
   "cell_type": "code",
   "execution_count": 1,
   "id": "c8963bb1",
   "metadata": {},
   "outputs": [],
   "source": [
    "import numpy as np\n",
    "import pandas as pd\n",
    "import matplotlib.pyplot as plt\n",
    "import seaborn as sns\n",
    "import warnings\n",
    "%matplotlib inline\n",
    "warnings.filterwarnings(\"ignore\")\n",
    "from sklearn.model_selection import train_test_split\n",
    "from sklearn.metrics import r2_score\n",
    "from sklearn.metrics import mean_absolute_error\n",
    "from sklearn.metrics import mean_squared_error"
   ]
  },
  {
   "cell_type": "code",
   "execution_count": 2,
   "id": "3cc12adb",
   "metadata": {},
   "outputs": [],
   "source": [
    "dataset=pd.read_csv(\"insurance.csv\")"
   ]
  },
  {
   "cell_type": "code",
   "execution_count": 3,
   "id": "29273ecf",
   "metadata": {},
   "outputs": [
    {
     "data": {
      "text/html": [
       "<div>\n",
       "<style scoped>\n",
       "    .dataframe tbody tr th:only-of-type {\n",
       "        vertical-align: middle;\n",
       "    }\n",
       "\n",
       "    .dataframe tbody tr th {\n",
       "        vertical-align: top;\n",
       "    }\n",
       "\n",
       "    .dataframe thead th {\n",
       "        text-align: right;\n",
       "    }\n",
       "</style>\n",
       "<table border=\"1\" class=\"dataframe\">\n",
       "  <thead>\n",
       "    <tr style=\"text-align: right;\">\n",
       "      <th></th>\n",
       "      <th>age</th>\n",
       "      <th>sex</th>\n",
       "      <th>bmi</th>\n",
       "      <th>children</th>\n",
       "      <th>smoker</th>\n",
       "      <th>region</th>\n",
       "      <th>charges</th>\n",
       "    </tr>\n",
       "  </thead>\n",
       "  <tbody>\n",
       "    <tr>\n",
       "      <th>0</th>\n",
       "      <td>19</td>\n",
       "      <td>female</td>\n",
       "      <td>27.900</td>\n",
       "      <td>0</td>\n",
       "      <td>yes</td>\n",
       "      <td>southwest</td>\n",
       "      <td>16884.92400</td>\n",
       "    </tr>\n",
       "    <tr>\n",
       "      <th>1</th>\n",
       "      <td>18</td>\n",
       "      <td>male</td>\n",
       "      <td>33.770</td>\n",
       "      <td>1</td>\n",
       "      <td>no</td>\n",
       "      <td>southeast</td>\n",
       "      <td>1725.55230</td>\n",
       "    </tr>\n",
       "    <tr>\n",
       "      <th>2</th>\n",
       "      <td>28</td>\n",
       "      <td>male</td>\n",
       "      <td>33.000</td>\n",
       "      <td>3</td>\n",
       "      <td>no</td>\n",
       "      <td>southeast</td>\n",
       "      <td>4449.46200</td>\n",
       "    </tr>\n",
       "    <tr>\n",
       "      <th>3</th>\n",
       "      <td>33</td>\n",
       "      <td>male</td>\n",
       "      <td>22.705</td>\n",
       "      <td>0</td>\n",
       "      <td>no</td>\n",
       "      <td>northwest</td>\n",
       "      <td>21984.47061</td>\n",
       "    </tr>\n",
       "    <tr>\n",
       "      <th>4</th>\n",
       "      <td>32</td>\n",
       "      <td>male</td>\n",
       "      <td>28.880</td>\n",
       "      <td>0</td>\n",
       "      <td>no</td>\n",
       "      <td>northwest</td>\n",
       "      <td>3866.85520</td>\n",
       "    </tr>\n",
       "  </tbody>\n",
       "</table>\n",
       "</div>"
      ],
      "text/plain": [
       "   age     sex     bmi  children smoker     region      charges\n",
       "0   19  female  27.900         0    yes  southwest  16884.92400\n",
       "1   18    male  33.770         1     no  southeast   1725.55230\n",
       "2   28    male  33.000         3     no  southeast   4449.46200\n",
       "3   33    male  22.705         0     no  northwest  21984.47061\n",
       "4   32    male  28.880         0     no  northwest   3866.85520"
      ]
     },
     "execution_count": 3,
     "metadata": {},
     "output_type": "execute_result"
    }
   ],
   "source": [
    "dataset.head()"
   ]
  },
  {
   "cell_type": "code",
   "execution_count": 4,
   "id": "3d672410",
   "metadata": {},
   "outputs": [
    {
     "name": "stdout",
     "output_type": "stream",
     "text": [
      "<class 'pandas.core.frame.DataFrame'>\n",
      "RangeIndex: 1338 entries, 0 to 1337\n",
      "Data columns (total 7 columns):\n",
      " #   Column    Non-Null Count  Dtype  \n",
      "---  ------    --------------  -----  \n",
      " 0   age       1338 non-null   int64  \n",
      " 1   sex       1338 non-null   object \n",
      " 2   bmi       1338 non-null   float64\n",
      " 3   children  1338 non-null   int64  \n",
      " 4   smoker    1338 non-null   object \n",
      " 5   region    1338 non-null   object \n",
      " 6   charges   1338 non-null   float64\n",
      "dtypes: float64(2), int64(2), object(3)\n",
      "memory usage: 73.3+ KB\n"
     ]
    }
   ],
   "source": [
    "dataset.info()"
   ]
  },
  {
   "cell_type": "code",
   "execution_count": 5,
   "id": "289b8927",
   "metadata": {},
   "outputs": [
    {
     "data": {
      "text/html": [
       "<div>\n",
       "<style scoped>\n",
       "    .dataframe tbody tr th:only-of-type {\n",
       "        vertical-align: middle;\n",
       "    }\n",
       "\n",
       "    .dataframe tbody tr th {\n",
       "        vertical-align: top;\n",
       "    }\n",
       "\n",
       "    .dataframe thead th {\n",
       "        text-align: right;\n",
       "    }\n",
       "</style>\n",
       "<table border=\"1\" class=\"dataframe\">\n",
       "  <thead>\n",
       "    <tr style=\"text-align: right;\">\n",
       "      <th></th>\n",
       "      <th>age</th>\n",
       "      <th>bmi</th>\n",
       "      <th>children</th>\n",
       "      <th>charges</th>\n",
       "    </tr>\n",
       "  </thead>\n",
       "  <tbody>\n",
       "    <tr>\n",
       "      <th>count</th>\n",
       "      <td>1338.000000</td>\n",
       "      <td>1338.000000</td>\n",
       "      <td>1338.000000</td>\n",
       "      <td>1338.000000</td>\n",
       "    </tr>\n",
       "    <tr>\n",
       "      <th>mean</th>\n",
       "      <td>39.207025</td>\n",
       "      <td>30.663397</td>\n",
       "      <td>1.094918</td>\n",
       "      <td>13270.422265</td>\n",
       "    </tr>\n",
       "    <tr>\n",
       "      <th>std</th>\n",
       "      <td>14.049960</td>\n",
       "      <td>6.098187</td>\n",
       "      <td>1.205493</td>\n",
       "      <td>12110.011237</td>\n",
       "    </tr>\n",
       "    <tr>\n",
       "      <th>min</th>\n",
       "      <td>18.000000</td>\n",
       "      <td>15.960000</td>\n",
       "      <td>0.000000</td>\n",
       "      <td>1121.873900</td>\n",
       "    </tr>\n",
       "    <tr>\n",
       "      <th>25%</th>\n",
       "      <td>27.000000</td>\n",
       "      <td>26.296250</td>\n",
       "      <td>0.000000</td>\n",
       "      <td>4740.287150</td>\n",
       "    </tr>\n",
       "    <tr>\n",
       "      <th>50%</th>\n",
       "      <td>39.000000</td>\n",
       "      <td>30.400000</td>\n",
       "      <td>1.000000</td>\n",
       "      <td>9382.033000</td>\n",
       "    </tr>\n",
       "    <tr>\n",
       "      <th>75%</th>\n",
       "      <td>51.000000</td>\n",
       "      <td>34.693750</td>\n",
       "      <td>2.000000</td>\n",
       "      <td>16639.912515</td>\n",
       "    </tr>\n",
       "    <tr>\n",
       "      <th>max</th>\n",
       "      <td>64.000000</td>\n",
       "      <td>53.130000</td>\n",
       "      <td>5.000000</td>\n",
       "      <td>63770.428010</td>\n",
       "    </tr>\n",
       "  </tbody>\n",
       "</table>\n",
       "</div>"
      ],
      "text/plain": [
       "               age          bmi     children       charges\n",
       "count  1338.000000  1338.000000  1338.000000   1338.000000\n",
       "mean     39.207025    30.663397     1.094918  13270.422265\n",
       "std      14.049960     6.098187     1.205493  12110.011237\n",
       "min      18.000000    15.960000     0.000000   1121.873900\n",
       "25%      27.000000    26.296250     0.000000   4740.287150\n",
       "50%      39.000000    30.400000     1.000000   9382.033000\n",
       "75%      51.000000    34.693750     2.000000  16639.912515\n",
       "max      64.000000    53.130000     5.000000  63770.428010"
      ]
     },
     "execution_count": 5,
     "metadata": {},
     "output_type": "execute_result"
    }
   ],
   "source": [
    "dataset.describe()"
   ]
  },
  {
   "cell_type": "code",
   "execution_count": 6,
   "id": "50d42b30",
   "metadata": {},
   "outputs": [
    {
     "data": {
      "text/plain": [
       "(1338, 7)"
      ]
     },
     "execution_count": 6,
     "metadata": {},
     "output_type": "execute_result"
    }
   ],
   "source": [
    "dataset.shape"
   ]
  },
  {
   "cell_type": "code",
   "execution_count": 7,
   "id": "e4714e8b",
   "metadata": {},
   "outputs": [
    {
     "data": {
      "text/plain": [
       "age         0\n",
       "sex         0\n",
       "bmi         0\n",
       "children    0\n",
       "smoker      0\n",
       "region      0\n",
       "charges     0\n",
       "dtype: int64"
      ]
     },
     "execution_count": 7,
     "metadata": {},
     "output_type": "execute_result"
    }
   ],
   "source": [
    "dataset.isnull().sum()"
   ]
  },
  {
   "cell_type": "code",
   "execution_count": 8,
   "id": "6af0d829",
   "metadata": {},
   "outputs": [
    {
     "data": {
      "text/html": [
       "<div>\n",
       "<style scoped>\n",
       "    .dataframe tbody tr th:only-of-type {\n",
       "        vertical-align: middle;\n",
       "    }\n",
       "\n",
       "    .dataframe tbody tr th {\n",
       "        vertical-align: top;\n",
       "    }\n",
       "\n",
       "    .dataframe thead th {\n",
       "        text-align: right;\n",
       "    }\n",
       "</style>\n",
       "<table border=\"1\" class=\"dataframe\">\n",
       "  <thead>\n",
       "    <tr style=\"text-align: right;\">\n",
       "      <th></th>\n",
       "      <th>age</th>\n",
       "      <th>sex</th>\n",
       "      <th>bmi</th>\n",
       "      <th>children</th>\n",
       "      <th>smoker</th>\n",
       "      <th>region</th>\n",
       "      <th>charges</th>\n",
       "    </tr>\n",
       "  </thead>\n",
       "  <tbody>\n",
       "    <tr>\n",
       "      <th>0</th>\n",
       "      <td>19</td>\n",
       "      <td>female</td>\n",
       "      <td>27.900</td>\n",
       "      <td>0</td>\n",
       "      <td>yes</td>\n",
       "      <td>southwest</td>\n",
       "      <td>16884.92400</td>\n",
       "    </tr>\n",
       "    <tr>\n",
       "      <th>1</th>\n",
       "      <td>18</td>\n",
       "      <td>male</td>\n",
       "      <td>33.770</td>\n",
       "      <td>1</td>\n",
       "      <td>no</td>\n",
       "      <td>southeast</td>\n",
       "      <td>1725.55230</td>\n",
       "    </tr>\n",
       "    <tr>\n",
       "      <th>2</th>\n",
       "      <td>28</td>\n",
       "      <td>male</td>\n",
       "      <td>33.000</td>\n",
       "      <td>3</td>\n",
       "      <td>no</td>\n",
       "      <td>southeast</td>\n",
       "      <td>4449.46200</td>\n",
       "    </tr>\n",
       "    <tr>\n",
       "      <th>3</th>\n",
       "      <td>33</td>\n",
       "      <td>male</td>\n",
       "      <td>22.705</td>\n",
       "      <td>0</td>\n",
       "      <td>no</td>\n",
       "      <td>northwest</td>\n",
       "      <td>21984.47061</td>\n",
       "    </tr>\n",
       "    <tr>\n",
       "      <th>4</th>\n",
       "      <td>32</td>\n",
       "      <td>male</td>\n",
       "      <td>28.880</td>\n",
       "      <td>0</td>\n",
       "      <td>no</td>\n",
       "      <td>northwest</td>\n",
       "      <td>3866.85520</td>\n",
       "    </tr>\n",
       "    <tr>\n",
       "      <th>...</th>\n",
       "      <td>...</td>\n",
       "      <td>...</td>\n",
       "      <td>...</td>\n",
       "      <td>...</td>\n",
       "      <td>...</td>\n",
       "      <td>...</td>\n",
       "      <td>...</td>\n",
       "    </tr>\n",
       "    <tr>\n",
       "      <th>1333</th>\n",
       "      <td>50</td>\n",
       "      <td>male</td>\n",
       "      <td>30.970</td>\n",
       "      <td>3</td>\n",
       "      <td>no</td>\n",
       "      <td>northwest</td>\n",
       "      <td>10600.54830</td>\n",
       "    </tr>\n",
       "    <tr>\n",
       "      <th>1334</th>\n",
       "      <td>18</td>\n",
       "      <td>female</td>\n",
       "      <td>31.920</td>\n",
       "      <td>0</td>\n",
       "      <td>no</td>\n",
       "      <td>northeast</td>\n",
       "      <td>2205.98080</td>\n",
       "    </tr>\n",
       "    <tr>\n",
       "      <th>1335</th>\n",
       "      <td>18</td>\n",
       "      <td>female</td>\n",
       "      <td>36.850</td>\n",
       "      <td>0</td>\n",
       "      <td>no</td>\n",
       "      <td>southeast</td>\n",
       "      <td>1629.83350</td>\n",
       "    </tr>\n",
       "    <tr>\n",
       "      <th>1336</th>\n",
       "      <td>21</td>\n",
       "      <td>female</td>\n",
       "      <td>25.800</td>\n",
       "      <td>0</td>\n",
       "      <td>no</td>\n",
       "      <td>southwest</td>\n",
       "      <td>2007.94500</td>\n",
       "    </tr>\n",
       "    <tr>\n",
       "      <th>1337</th>\n",
       "      <td>61</td>\n",
       "      <td>female</td>\n",
       "      <td>29.070</td>\n",
       "      <td>0</td>\n",
       "      <td>yes</td>\n",
       "      <td>northwest</td>\n",
       "      <td>29141.36030</td>\n",
       "    </tr>\n",
       "  </tbody>\n",
       "</table>\n",
       "<p>1338 rows × 7 columns</p>\n",
       "</div>"
      ],
      "text/plain": [
       "      age     sex     bmi  children smoker     region      charges\n",
       "0      19  female  27.900         0    yes  southwest  16884.92400\n",
       "1      18    male  33.770         1     no  southeast   1725.55230\n",
       "2      28    male  33.000         3     no  southeast   4449.46200\n",
       "3      33    male  22.705         0     no  northwest  21984.47061\n",
       "4      32    male  28.880         0     no  northwest   3866.85520\n",
       "...   ...     ...     ...       ...    ...        ...          ...\n",
       "1333   50    male  30.970         3     no  northwest  10600.54830\n",
       "1334   18  female  31.920         0     no  northeast   2205.98080\n",
       "1335   18  female  36.850         0     no  southeast   1629.83350\n",
       "1336   21  female  25.800         0     no  southwest   2007.94500\n",
       "1337   61  female  29.070         0    yes  northwest  29141.36030\n",
       "\n",
       "[1338 rows x 7 columns]"
      ]
     },
     "execution_count": 8,
     "metadata": {},
     "output_type": "execute_result"
    }
   ],
   "source": [
    "dataset.fillna(0)"
   ]
  },
  {
   "cell_type": "code",
   "execution_count": 9,
   "id": "0ba32866",
   "metadata": {},
   "outputs": [
    {
     "data": {
      "image/png": "[encoded data removed]",
      "text/plain": [
       "<Figure size 504x504 with 1 Axes>"
      ]
     },
     "metadata": {},
     "output_type": "display_data"
    }
   ],
   "source": [
    "sns.set()\n",
    "plt.figure(figsize=(7,7))\n",
    "sns.distplot(dataset[\"age\"])\n",
    "plt.title(\"AGE DISTRUBUTION\")\n",
    "plt.show()"
   ]
  },
  {
   "cell_type": "code",
   "execution_count": 10,
   "id": "afc56e32",
   "metadata": {},
   "outputs": [
    {
     "data": {
      "image/png": "[encoded data removed]",
      "text/plain": [
       "<Figure size 504x504 with 1 Axes>"
      ]
     },
     "metadata": {},
     "output_type": "display_data"
    }
   ],
   "source": [
    "plt.figure(figsize=(7,7))\n",
    "sns.countplot(x=\"sex\",data=dataset)\n",
    "plt.title(\"GENDER DISTRUBUTION\")\n",
    "plt.show()"
   ]
  },
  {
   "cell_type": "code",
   "execution_count": 11,
   "id": "e56c5b54",
   "metadata": {},
   "outputs": [
    {
     "data": {
      "text/plain": [
       "male      676\n",
       "female    662\n",
       "Name: sex, dtype: int64"
      ]
     },
     "execution_count": 11,
     "metadata": {},
     "output_type": "execute_result"
    }
   ],
   "source": [
    "dataset[\"sex\"].value_counts()"
   ]
  },
  {
   "cell_type": "code",
   "execution_count": 12,
   "id": "c54b4982",
   "metadata": {},
   "outputs": [
    {
     "data": {
      "image/png": "[encoded data removed]",
      "text/plain": [
       "<Figure size 504x504 with 1 Axes>"
      ]
     },
     "metadata": {},
     "output_type": "display_data"
    }
   ],
   "source": [
    "plt.figure(figsize=(7,7))\n",
    "sns.distplot(dataset[\"bmi\"])\n",
    "plt.title(\"BODYMASSINDEX DISTRUBUTION\")\n",
    "plt.show()"
   ]
  },
  {
   "cell_type": "code",
   "execution_count": 13,
   "id": "cb39dafe",
   "metadata": {},
   "outputs": [
    {
     "data": {
      "image/png": "[encoded data removed]",
      "text/plain": [
       "<Figure size 504x504 with 1 Axes>"
      ]
     },
     "metadata": {},
     "output_type": "display_data"
    }
   ],
   "source": [
    "plt.figure(figsize=(7,7))\n",
    "sns.countplot(x=\"children\",data=dataset)\n",
    "plt.title(\"CHILDREN DISTRUBUTION\")\n",
    "plt.show()"
   ]
  },
  {
   "cell_type": "code",
   "execution_count": 14,
   "id": "fddecb6c",
   "metadata": {},
   "outputs": [
    {
     "data": {
      "text/plain": [
       "0    574\n",
       "1    324\n",
       "2    240\n",
       "3    157\n",
       "4     25\n",
       "5     18\n",
       "Name: children, dtype: int64"
      ]
     },
     "execution_count": 14,
     "metadata": {},
     "output_type": "execute_result"
    }
   ],
   "source": [
    "dataset[\"children\"].value_counts()"
   ]
  },
  {
   "cell_type": "code",
   "execution_count": 15,
   "id": "d888747c",
   "metadata": {},
   "outputs": [
    {
     "data": {
      "image/png": "[encoded data removed]",
      "text/plain": [
       "<Figure size 504x504 with 1 Axes>"
      ]
     },
     "metadata": {},
     "output_type": "display_data"
    }
   ],
   "source": [
    "plt.figure(figsize=(7,7))\n",
    "sns.countplot(x=\"smoker\",data=dataset)\n",
    "plt.title(\"SMOKER DISTRUBUTION\")\n",
    "plt.show()"
   ]
  },
  {
   "cell_type": "code",
   "execution_count": 16,
   "id": "79dd3b79",
   "metadata": {},
   "outputs": [
    {
     "data": {
      "text/plain": [
       "no     1064\n",
       "yes     274\n",
       "Name: smoker, dtype: int64"
      ]
     },
     "execution_count": 16,
     "metadata": {},
     "output_type": "execute_result"
    }
   ],
   "source": [
    "dataset[\"smoker\"].value_counts()"
   ]
  },
  {
   "cell_type": "code",
   "execution_count": 17,
   "id": "8678e480",
   "metadata": {},
   "outputs": [
    {
     "data": {
      "image/png": "[encoded data removed]",
      "text/plain": [
       "<Figure size 504x504 with 1 Axes>"
      ]
     },
     "metadata": {},
     "output_type": "display_data"
    }
   ],
   "source": [
    "plt.figure(figsize=(7,7))\n",
    "sns.countplot(x=\"region\",data=dataset)\n",
    "plt.title(\"REGION DISTRUBUTION\")\n",
    "plt.show()"
   ]
  },
  {
   "cell_type": "code",
   "execution_count": 18,
   "id": "e5c4e8f1",
   "metadata": {},
   "outputs": [
    {
     "data": {
      "text/plain": [
       "southeast    364\n",
       "southwest    325\n",
       "northwest    325\n",
       "northeast    324\n",
       "Name: region, dtype: int64"
      ]
     },
     "execution_count": 18,
     "metadata": {},
     "output_type": "execute_result"
    }
   ],
   "source": [
    "dataset[\"region\"].value_counts()"
   ]
  },
  {
   "cell_type": "code",
   "execution_count": 19,
   "id": "837fa701",
   "metadata": {},
   "outputs": [
    {
     "data": {
      "image/png": "[encoded data removed]",
      "text/plain": [
       "<Figure size 504x504 with 1 Axes>"
      ]
     },
     "metadata": {},
     "output_type": "display_data"
    }
   ],
   "source": [
    "sns.set()\n",
    "plt.figure(figsize=(7,7))\n",
    "sns.distplot(dataset[\"charges\"])\n",
    "plt.title(\"INSURANCE COST DISTRUBUTION\")\n",
    "plt.show()"
   ]
  },
  {
   "cell_type": "code",
   "execution_count": 20,
   "id": "1a53bb18",
   "metadata": {},
   "outputs": [
    {
     "data": {
      "text/plain": [
       "array([0, 1])"
      ]
     },
     "execution_count": 20,
     "metadata": {},
     "output_type": "execute_result"
    }
   ],
   "source": [
    "from sklearn.preprocessing import LabelEncoder\n",
    "le_sex=LabelEncoder()\n",
    "dataset[\"sex\"]=le_sex.fit_transform(dataset[\"sex\"])\n",
    "dataset[\"sex\"].unique()"
   ]
  },
  {
   "cell_type": "code",
   "execution_count": 21,
   "id": "42b97dd4",
   "metadata": {},
   "outputs": [
    {
     "data": {
      "text/plain": [
       "array([1, 0])"
      ]
     },
     "execution_count": 21,
     "metadata": {},
     "output_type": "execute_result"
    }
   ],
   "source": [
    "\n",
    "le_smoker=LabelEncoder()\n",
    "dataset[\"smoker\"]=le_smoker.fit_transform(dataset[\"smoker\"])\n",
    "dataset[\"smoker\"].unique()"
   ]
  },
  {
   "cell_type": "code",
   "execution_count": 22,
   "id": "e74907c8",
   "metadata": {},
   "outputs": [
    {
     "data": {
      "text/plain": [
       "array([3, 2, 1, 0])"
      ]
     },
     "execution_count": 22,
     "metadata": {},
     "output_type": "execute_result"
    }
   ],
   "source": [
    "\n",
    "le_region=LabelEncoder()\n",
    "dataset[\"region\"]=le_region.fit_transform(dataset[\"region\"])\n",
    "dataset[\"region\"].unique()"
   ]
  },
  {
   "cell_type": "code",
   "execution_count": 23,
   "id": "31f9bece",
   "metadata": {},
   "outputs": [
    {
     "data": {
      "text/html": [
       "<div>\n",
       "<style scoped>\n",
       "    .dataframe tbody tr th:only-of-type {\n",
       "        vertical-align: middle;\n",
       "    }\n",
       "\n",
       "    .dataframe tbody tr th {\n",
       "        vertical-align: top;\n",
       "    }\n",
       "\n",
       "    .dataframe thead th {\n",
       "        text-align: right;\n",
       "    }\n",
       "</style>\n",
       "<table border=\"1\" class=\"dataframe\">\n",
       "  <thead>\n",
       "    <tr style=\"text-align: right;\">\n",
       "      <th></th>\n",
       "      <th>age</th>\n",
       "      <th>sex</th>\n",
       "      <th>bmi</th>\n",
       "      <th>children</th>\n",
       "      <th>smoker</th>\n",
       "      <th>region</th>\n",
       "      <th>charges</th>\n",
       "    </tr>\n",
       "  </thead>\n",
       "  <tbody>\n",
       "    <tr>\n",
       "      <th>0</th>\n",
       "      <td>19</td>\n",
       "      <td>0</td>\n",
       "      <td>27.900</td>\n",
       "      <td>0</td>\n",
       "      <td>1</td>\n",
       "      <td>3</td>\n",
       "      <td>16884.92400</td>\n",
       "    </tr>\n",
       "    <tr>\n",
       "      <th>1</th>\n",
       "      <td>18</td>\n",
       "      <td>1</td>\n",
       "      <td>33.770</td>\n",
       "      <td>1</td>\n",
       "      <td>0</td>\n",
       "      <td>2</td>\n",
       "      <td>1725.55230</td>\n",
       "    </tr>\n",
       "    <tr>\n",
       "      <th>2</th>\n",
       "      <td>28</td>\n",
       "      <td>1</td>\n",
       "      <td>33.000</td>\n",
       "      <td>3</td>\n",
       "      <td>0</td>\n",
       "      <td>2</td>\n",
       "      <td>4449.46200</td>\n",
       "    </tr>\n",
       "    <tr>\n",
       "      <th>3</th>\n",
       "      <td>33</td>\n",
       "      <td>1</td>\n",
       "      <td>22.705</td>\n",
       "      <td>0</td>\n",
       "      <td>0</td>\n",
       "      <td>1</td>\n",
       "      <td>21984.47061</td>\n",
       "    </tr>\n",
       "    <tr>\n",
       "      <th>4</th>\n",
       "      <td>32</td>\n",
       "      <td>1</td>\n",
       "      <td>28.880</td>\n",
       "      <td>0</td>\n",
       "      <td>0</td>\n",
       "      <td>1</td>\n",
       "      <td>3866.85520</td>\n",
       "    </tr>\n",
       "  </tbody>\n",
       "</table>\n",
       "</div>"
      ],
      "text/plain": [
       "   age  sex     bmi  children  smoker  region      charges\n",
       "0   19    0  27.900         0       1       3  16884.92400\n",
       "1   18    1  33.770         1       0       2   1725.55230\n",
       "2   28    1  33.000         3       0       2   4449.46200\n",
       "3   33    1  22.705         0       0       1  21984.47061\n",
       "4   32    1  28.880         0       0       1   3866.85520"
      ]
     },
     "execution_count": 23,
     "metadata": {},
     "output_type": "execute_result"
    }
   ],
   "source": [
    "dataset.head()"
   ]
  },
  {
   "cell_type": "code",
   "execution_count": 24,
   "id": "8fa28bf8",
   "metadata": {},
   "outputs": [
    {
     "data": {
      "image/png": "[encoded data removed]",
      "text/plain": [
       "<Figure size 1440x720 with 2 Axes>"
      ]
     },
     "metadata": {},
     "output_type": "display_data"
    }
   ],
   "source": [
    "corr=dataset.corr()\n",
    "plt.figure(figsize=(20,10))\n",
    "sns.heatmap(corr,annot=True,cmap=\"coolwarm\")\n",
    "plt.show()\n"
   ]
  },
  {
   "cell_type": "code",
   "execution_count": 25,
   "id": "f97f2ac0",
   "metadata": {},
   "outputs": [
    {
     "data": {
      "image/png": "[encoded data removed]",
      "text/plain": [
       "<Figure size 1440x720 with 7 Axes>"
      ]
     },
     "metadata": {},
     "output_type": "display_data"
    }
   ],
   "source": [
    "fig, ax=plt.subplots(ncols=7, nrows=1, figsize=(20,10))\n",
    "index = 0\n",
    "ax=ax.flatten()\n",
    "\n",
    "for col, value in dataset.items():\n",
    "    sns.boxplot(y=col,data=dataset,ax=ax[index])\n",
    "    index +=1\n",
    "plt.tight_layout(pad=0.5,w_pad=0.7,h_pad=5.0)\n"
   ]
  },
  {
   "cell_type": "code",
   "execution_count": 26,
   "id": "cba7b401",
   "metadata": {},
   "outputs": [],
   "source": [
    "X=dataset.drop(columns=\"charges\",axis=1)\n",
    "Y=dataset[\"charges\"]"
   ]
  },
  {
   "cell_type": "code",
   "execution_count": 27,
   "id": "019db247",
   "metadata": {},
   "outputs": [
    {
     "data": {
      "text/html": [
       "<div>\n",
       "<style scoped>\n",
       "    .dataframe tbody tr th:only-of-type {\n",
       "        vertical-align: middle;\n",
       "    }\n",
       "\n",
       "    .dataframe tbody tr th {\n",
       "        vertical-align: top;\n",
       "    }\n",
       "\n",
       "    .dataframe thead th {\n",
       "        text-align: right;\n",
       "    }\n",
       "</style>\n",
       "<table border=\"1\" class=\"dataframe\">\n",
       "  <thead>\n",
       "    <tr style=\"text-align: right;\">\n",
       "      <th></th>\n",
       "      <th>age</th>\n",
       "      <th>sex</th>\n",
       "      <th>bmi</th>\n",
       "      <th>children</th>\n",
       "      <th>smoker</th>\n",
       "      <th>region</th>\n",
       "    </tr>\n",
       "  </thead>\n",
       "  <tbody>\n",
       "    <tr>\n",
       "      <th>0</th>\n",
       "      <td>19</td>\n",
       "      <td>0</td>\n",
       "      <td>27.900</td>\n",
       "      <td>0</td>\n",
       "      <td>1</td>\n",
       "      <td>3</td>\n",
       "    </tr>\n",
       "    <tr>\n",
       "      <th>1</th>\n",
       "      <td>18</td>\n",
       "      <td>1</td>\n",
       "      <td>33.770</td>\n",
       "      <td>1</td>\n",
       "      <td>0</td>\n",
       "      <td>2</td>\n",
       "    </tr>\n",
       "    <tr>\n",
       "      <th>2</th>\n",
       "      <td>28</td>\n",
       "      <td>1</td>\n",
       "      <td>33.000</td>\n",
       "      <td>3</td>\n",
       "      <td>0</td>\n",
       "      <td>2</td>\n",
       "    </tr>\n",
       "    <tr>\n",
       "      <th>3</th>\n",
       "      <td>33</td>\n",
       "      <td>1</td>\n",
       "      <td>22.705</td>\n",
       "      <td>0</td>\n",
       "      <td>0</td>\n",
       "      <td>1</td>\n",
       "    </tr>\n",
       "    <tr>\n",
       "      <th>4</th>\n",
       "      <td>32</td>\n",
       "      <td>1</td>\n",
       "      <td>28.880</td>\n",
       "      <td>0</td>\n",
       "      <td>0</td>\n",
       "      <td>1</td>\n",
       "    </tr>\n",
       "  </tbody>\n",
       "</table>\n",
       "</div>"
      ],
      "text/plain": [
       "   age  sex     bmi  children  smoker  region\n",
       "0   19    0  27.900         0       1       3\n",
       "1   18    1  33.770         1       0       2\n",
       "2   28    1  33.000         3       0       2\n",
       "3   33    1  22.705         0       0       1\n",
       "4   32    1  28.880         0       0       1"
      ]
     },
     "execution_count": 27,
     "metadata": {},
     "output_type": "execute_result"
    }
   ],
   "source": [
    "X.head()"
   ]
  },
  {
   "cell_type": "code",
   "execution_count": 28,
   "id": "f8f325b8",
   "metadata": {},
   "outputs": [
    {
     "data": {
      "text/plain": [
       "0    16884.92400\n",
       "1     1725.55230\n",
       "2     4449.46200\n",
       "3    21984.47061\n",
       "4     3866.85520\n",
       "Name: charges, dtype: float64"
      ]
     },
     "execution_count": 28,
     "metadata": {},
     "output_type": "execute_result"
    }
   ],
   "source": [
    "Y.head()"
   ]
  },
  {
   "cell_type": "code",
   "execution_count": 29,
   "id": "af8891ac",
   "metadata": {},
   "outputs": [
    {
     "name": "stdout",
     "output_type": "stream",
     "text": [
      "(896, 6)\n",
      "(896,)\n",
      "(442, 6)\n",
      "(442,)\n"
     ]
    }
   ],
   "source": [
    "from sklearn.model_selection import train_test_split\n",
    "x_train, x_test, y_train, y_test = train_test_split(X, Y, test_size=0.33, random_state=42)\n",
    "print(x_train.shape)\n",
    "print(y_train.shape)\n",
    "print(x_test.shape)\n",
    "print(y_test.shape)"
   ]
  },
  {
   "cell_type": "code",
   "execution_count": 30,
   "id": "3a62c709",
   "metadata": {},
   "outputs": [],
   "source": [
    "from sklearn.linear_model import LinearRegression"
   ]
  },
  {
   "cell_type": "code",
   "execution_count": 51,
   "id": "69c9d71b",
   "metadata": {},
   "outputs": [],
   "source": [
    "regressor = LinearRegression()"
   ]
  },
  {
   "cell_type": "code",
   "execution_count": 52,
   "id": "239b4310",
   "metadata": {},
   "outputs": [],
   "source": [
    "regressor = regr.fit(x_train, y_train)"
   ]
  },
  {
   "cell_type": "code",
   "execution_count": 53,
   "id": "e38dd0d5",
   "metadata": {},
   "outputs": [
    {
     "data": {
      "text/plain": [
       "array([  262.00518915,   129.10270377,   342.2658478 ,   373.20803797,\n",
       "       23693.32775546,  -294.4964067 ])"
      ]
     },
     "execution_count": 53,
     "metadata": {},
     "output_type": "execute_result"
    }
   ],
   "source": [
    "\n",
    "\n",
    "regressor.coef_"
   ]
  },
  {
   "cell_type": "code",
   "execution_count": 54,
   "id": "a3719aee",
   "metadata": {},
   "outputs": [
    {
     "data": {
      "text/plain": [
       "-12368.529203578068"
      ]
     },
     "execution_count": 54,
     "metadata": {},
     "output_type": "execute_result"
    }
   ],
   "source": [
    "regressor.intercept_"
   ]
  },
  {
   "cell_type": "code",
   "execution_count": 55,
   "id": "304fede7",
   "metadata": {},
   "outputs": [],
   "source": [
    "y_pred = regressor.predict(x_test)"
   ]
  },
  {
   "cell_type": "code",
   "execution_count": 56,
   "id": "6c76e9fb",
   "metadata": {},
   "outputs": [
    {
     "data": {
      "text/plain": [
       "0.7602640802497018"
      ]
     },
     "execution_count": 56,
     "metadata": {},
     "output_type": "execute_result"
    }
   ],
   "source": [
    "r2_score(y_test, y_pred)"
   ]
  },
  {
   "cell_type": "code",
   "execution_count": 57,
   "id": "c9db84d7",
   "metadata": {},
   "outputs": [
    {
     "data": {
      "text/plain": [
       "4204.415654724194"
      ]
     },
     "execution_count": 57,
     "metadata": {},
     "output_type": "execute_result"
    }
   ],
   "source": [
    "mean_absolute_error(y_test, y_pred)"
   ]
  },
  {
   "cell_type": "code",
   "execution_count": 58,
   "id": "d3a3975b",
   "metadata": {},
   "outputs": [
    {
     "data": {
      "text/plain": [
       "35132017.869487904"
      ]
     },
     "execution_count": 58,
     "metadata": {},
     "output_type": "execute_result"
    }
   ],
   "source": [
    "mean_squared_error(y_test, y_pred)"
   ]
  },
  {
   "cell_type": "code",
   "execution_count": 59,
   "id": "181ff710",
   "metadata": {},
   "outputs": [
    {
     "data": {
      "text/plain": [
       "5927.226827909313"
      ]
     },
     "execution_count": 59,
     "metadata": {},
     "output_type": "execute_result"
    }
   ],
   "source": [
    "np.sqrt(mean_squared_error(y_test, y_pred))"
   ]
  },
  {
   "cell_type": "code",
   "execution_count": 60,
   "id": "7df91c78",
   "metadata": {},
   "outputs": [
    {
     "data": {
      "text/plain": [
       "764      9095.06825\n",
       "887      5272.17580\n",
       "890     29330.98315\n",
       "1293     9301.89355\n",
       "259     33750.29180\n",
       "Name: charges, dtype: float64"
      ]
     },
     "execution_count": 60,
     "metadata": {},
     "output_type": "execute_result"
    }
   ],
   "source": [
    "y_test.head()"
   ]
  },
  {
   "cell_type": "code",
   "execution_count": 61,
   "id": "84872cfc",
   "metadata": {},
   "outputs": [
    {
     "data": {
      "text/plain": [
       "array([ 8.78466310e+03,  7.04398195e+03,  3.70004516e+04,  9.44957416e+03,\n",
       "        2.70626293e+04,  1.08416736e+04,  2.11885469e+01,  1.72079962e+04,\n",
       "        8.85392601e+02,  1.12435626e+04,  2.79014785e+04,  9.42461821e+03,\n",
       "        5.14148294e+03,  3.85317299e+04,  4.05907383e+04,  3.72534005e+04,\n",
       "        1.52350547e+04,  3.59604557e+04,  9.06848175e+03,  3.14983426e+04,\n",
       "        3.47340796e+03,  1.00475901e+04,  2.26006465e+03,  7.01947703e+03,\n",
       "        1.11813736e+04,  1.29649989e+04,  1.44818242e+04,  5.93562038e+03,\n",
       "        9.79640231e+03,  2.20356674e+03,  8.74941063e+03,  1.31638808e+04,\n",
       "        4.47939707e+03,  3.14495784e+03,  4.33040267e+03,  1.31746991e+04,\n",
       "        1.65911697e+03,  8.62116160e+03,  3.32866549e+04,  3.27180611e+04,\n",
       "        3.38092361e+03,  4.33343362e+03,  1.40465976e+04,  1.16384717e+04,\n",
       "        8.80017206e+03,  1.21209093e+04,  5.09589990e+03,  2.73479552e+03,\n",
       "        3.55620582e+04,  9.17974352e+03,  1.59730552e+04,  2.31323008e+03,\n",
       "        1.23670414e+04,  1.41836218e+03,  1.36280844e+04,  1.25974054e+04,\n",
       "        4.33481766e+03,  3.21717123e+04,  1.32732821e+04,  1.28980853e+04,\n",
       "        1.41383625e+04,  1.04075531e+04,  1.63348220e+04,  7.63912062e+03,\n",
       "        1.18231987e+04,  3.92299249e+03,  2.63615854e+04,  1.09512930e+04,\n",
       "        1.96642772e+03,  6.16069943e+03,  1.07709284e+04,  1.14853125e+04,\n",
       "        1.10264478e+04,  9.20507666e+03,  1.20996552e+04,  6.71525896e+03,\n",
       "        7.10707037e+03,  1.07883840e+04,  6.41981233e+03,  8.45407149e+03,\n",
       "        3.81940518e+03,  3.68350098e+04,  6.07808597e+03,  3.06482226e+04,\n",
       "        3.49985689e+04,  3.54467713e+04,  6.95669329e+03,  1.30941257e+04,\n",
       "        9.85204114e+03,  1.44099134e+04,  1.76608261e+04,  3.53728297e+04,\n",
       "        3.29539458e+04,  6.09108980e+03,  3.21202918e+04,  9.38667341e+03,\n",
       "        2.95240335e+04,  3.57735474e+03,  2.81063806e+04,  5.57933661e+03,\n",
       "        5.29239951e+03,  1.61756317e+03,  1.16934165e+04,  1.50247961e+04,\n",
       "        1.18391887e+04,  4.30863997e+03,  9.95036395e+03,  3.19045397e+04,\n",
       "       -1.74885343e+02,  3.28263314e+04,  3.18418244e+03,  1.02825535e+04,\n",
       "        1.42886819e+04,  3.15313089e+04,  1.13778759e+04,  3.78516908e+03,\n",
       "        1.32679768e+04,  3.15924467e+04,  8.02487417e+03,  3.22979808e+03,\n",
       "        8.29319471e+03,  1.06601979e+04,  1.51383199e+04,  5.73335853e+03,\n",
       "        3.58086490e+03,  1.01409121e+04,  1.08802640e+04,  1.11818260e+04,\n",
       "        1.45485420e+04,  7.54206172e+03,  5.32839501e+03,  9.20795032e+03,\n",
       "        9.23272898e+03,  1.25253523e+04,  8.19250376e+03,  1.54066614e+04,\n",
       "        8.46990455e+03,  3.18426054e+04,  3.58897852e+04,  3.15539333e+04,\n",
       "        5.97097852e+03,  1.26016817e+04,  6.10677193e+03,  1.45511862e+04,\n",
       "        2.53163334e+03,  3.29170881e+04,  6.25557326e+03,  4.83007861e+03,\n",
       "        1.42722060e+04,  6.85958230e+03,  3.86521204e+04,  2.98760938e+03,\n",
       "        5.96849107e+03,  3.17216758e+04,  1.15503937e+04,  8.53681820e+03,\n",
       "        1.49950516e+04,  9.78227786e+03,  2.70463266e+04,  3.35250800e+04,\n",
       "        1.44667984e+04,  1.49991527e+03,  1.31538382e+04,  2.17562878e+03,\n",
       "        5.21492097e+03,  1.16476589e+04,  3.98510587e+04,  3.66296017e+04,\n",
       "        3.40853719e+04,  3.66876649e+03,  7.24970644e+03,  8.46303204e+03,\n",
       "        1.25781256e+04,  4.83811076e+03,  1.78750021e+03,  3.22493356e+04,\n",
       "        2.50292746e+04,  1.77948343e+04,  2.62412371e+04,  1.02049925e+04,\n",
       "        3.73255801e+04, -7.38011963e+02,  6.85167166e+03,  7.56372512e+03,\n",
       "        4.18446366e+03,  5.03795362e+03,  5.87669175e+03,  4.08890124e+03,\n",
       "        1.52414181e+04,  1.13383019e+04,  6.72089070e+03,  2.32974765e+03,\n",
       "        1.32930731e+03,  3.18632393e+04,  1.67060853e+04,  1.20760080e+04,\n",
       "        1.07721695e+03,  1.24108048e+04,  1.35428999e+03,  8.61024674e+03,\n",
       "        1.75767910e+03,  3.41480683e+04,  1.09131482e+04,  2.52247010e+03,\n",
       "        2.55355329e+04,  2.62810256e+04,  9.60557759e+03,  1.50412991e+03,\n",
       "        1.34898036e+04,  7.90448977e+02,  1.04458952e+04,  1.05575168e+04,\n",
       "        1.68828449e+04,  2.69387572e+04,  6.94458255e+03,  5.05111160e+03,\n",
       "        5.73771278e+03,  1.31456668e+04,  1.11585706e+04,  8.29478229e+03,\n",
       "        5.06481945e+03,  1.25206517e+04,  1.39110267e+04,  3.59041858e+04,\n",
       "        4.22034763e+03,  2.90440358e+04, -1.22324337e+03,  2.91408797e+03,\n",
       "        1.11852968e+04,  1.55673291e+04,  5.28618615e+03,  6.87713759e+03,\n",
       "        3.51228799e+03,  3.13516257e+04,  7.23668855e+03,  1.26223314e+04,\n",
       "        5.59208614e+03,  9.55256763e+03,  3.63037120e+04,  4.49401253e+03,\n",
       "        9.62722646e+03,  3.10654162e+04,  5.69014188e+03,  4.46841511e+03,\n",
       "        1.06071841e+03,  4.91070057e+03,  4.24285376e+03,  6.41583258e+03,\n",
       "        1.85337164e+04, -1.57301729e+03,  2.11915445e+03,  1.05589004e+04,\n",
       "        2.91458575e+03,  1.01743364e+04,  3.58089163e+03,  4.99704402e+03,\n",
       "        1.24888786e+04,  6.25936628e+03,  8.30494333e+03,  7.31065280e+03,\n",
       "        8.75641324e+03,  1.05376777e+04,  2.79160980e+04,  3.93813440e+04,\n",
       "        1.18326384e+04,  7.68197911e+03,  4.11109098e+04,  1.21889463e+04,\n",
       "        6.96383283e+03,  8.26962011e+03,  9.17547680e+03,  1.08732844e+04,\n",
       "        9.95332647e+03,  1.78716723e+04,  8.29155839e+02,  2.35509577e+04,\n",
       "        1.27256100e+04,  3.32267933e+04,  5.08876632e+03,  1.33328432e+04,\n",
       "        1.04175342e+04,  1.78611187e+04,  9.62582204e+03,  1.15890082e+04,\n",
       "        3.21806942e+04,  3.28491376e+03,  1.36916411e+04,  3.95423068e+04,\n",
       "        5.45587658e+03,  6.20942765e+03,  3.27269006e+03,  1.14290504e+04,\n",
       "        2.52907380e+04,  1.40228756e+04,  9.14833715e+03,  1.01352134e+04,\n",
       "        1.35946430e+04,  7.10188319e+02,  2.40714918e+03,  3.08950068e+04,\n",
       "        3.00203766e+04,  1.36853366e+04,  3.53140134e+03,  2.54198915e+04,\n",
       "        1.35415986e+04,  3.08857697e+04,  3.34148686e+03,  3.92292075e+04,\n",
       "        1.12458334e+04,  4.86050804e+03,  6.51855129e+03,  2.53912554e+03,\n",
       "        2.59684095e+04,  1.43555295e+04,  3.84929696e+02,  1.25576740e+04,\n",
       "        1.28766391e+04,  1.50191335e+04,  3.50803156e+04,  1.43311120e+04,\n",
       "        3.17992895e+04,  9.76768508e+03,  1.81252161e+04,  5.85759561e+03,\n",
       "        8.95553402e+03,  9.23676370e+03,  1.53439384e+04,  9.01929345e+03,\n",
       "        8.32573669e+03,  1.51031024e+04,  1.27812063e+04,  1.48899733e+04,\n",
       "        7.38478856e+03,  2.61965489e+04,  9.39681264e+03,  1.85050026e+03,\n",
       "        4.19850698e+03,  1.42005111e+04,  3.59013122e+04,  9.43811935e+03,\n",
       "        1.28175118e+04,  5.16228772e+03,  4.79946958e+03,  3.71956284e+03,\n",
       "        2.65490021e+03,  8.96235530e+03,  7.17684143e+03,  2.48860572e+03,\n",
       "        1.28754323e+04,  8.88366771e+03,  5.77285468e+03,  4.81517085e+02,\n",
       "        9.31391313e+03,  4.96421869e+03,  3.29930846e+04,  2.86452893e+04,\n",
       "        3.71247086e+04,  5.51580619e+03,  8.70814429e+03,  8.40177734e+03,\n",
       "        3.38553809e+03,  3.16132877e+04,  7.06983869e+03,  2.84951878e+04,\n",
       "        3.61819126e+04,  7.08846700e+03,  1.29074013e+04,  9.77006232e+03,\n",
       "        8.28706751e+03,  1.26289958e+04,  3.01519843e+04,  1.71416056e+04,\n",
       "        1.17996653e+04,  3.95831571e+03, -1.42127566e+03,  1.21558838e+04,\n",
       "        3.08479459e+04,  1.31368994e+04,  1.12109908e+04,  7.90306240e+03,\n",
       "        3.52806077e+03,  7.08825353e+03,  7.12789199e+03,  1.04616325e+04,\n",
       "        3.37545673e+04,  3.91514351e+04,  1.18699921e+04,  8.32714207e+03,\n",
       "        1.65845569e+04,  1.55176765e+04,  9.45632246e+03,  9.19927397e+03,\n",
       "        8.75264695e+03,  2.54733587e+03,  1.00859937e+04,  3.89443937e+03,\n",
       "        1.05693819e+04,  1.60464156e+04,  6.76906318e+03,  2.00459510e+03,\n",
       "        1.47168334e+04,  2.02447528e+01,  1.39842947e+04,  8.37586038e+03,\n",
       "        1.32286629e+04,  3.63666142e+04,  3.37482410e+04,  3.55657534e+04,\n",
       "        5.92749851e+03,  6.06613385e+03,  1.65402567e+04,  8.19702211e+03,\n",
       "        3.78147110e+04,  4.83366626e+03,  8.18338906e+03,  9.88800040e+03,\n",
       "        3.03025569e+04,  5.17405348e+03,  3.44563093e+03,  1.67089444e+04,\n",
       "        3.60863151e+03,  6.20719819e+03,  1.02869658e+04, -1.05991408e+03,\n",
       "        2.95128462e+04,  8.36100646e+03,  9.82791841e+03,  5.71104550e+03,\n",
       "        7.40111529e+03,  1.15331128e+04,  2.88651958e+04,  9.52006730e+03,\n",
       "        1.06201995e+04,  6.38612022e+03,  4.16232245e+03,  7.71314276e+02,\n",
       "        7.87602208e+03,  1.12696270e+04,  1.00795981e+04,  8.46105649e+03,\n",
       "        6.08119760e+03,  4.34187604e+03])"
      ]
     },
     "execution_count": 61,
     "metadata": {},
     "output_type": "execute_result"
    }
   ],
   "source": [
    "y_pred"
   ]
  },
  {
   "cell_type": "code",
   "execution_count": 63,
   "id": "a85f826e",
   "metadata": {},
   "outputs": [],
   "source": [
    "from sklearn.tree import DecisionTreeRegressor\n",
    "regressor=DecisionTreeRegressor(random_state=0)\n",
    "regressor.fit(x_train,y_train)\n",
    "y_pred=regressor.predict(x_test)\n"
   ]
  },
  {
   "cell_type": "code",
   "execution_count": 64,
   "id": "4ab49578",
   "metadata": {},
   "outputs": [
    {
     "data": {
      "text/plain": [
       "0.6963864198111107"
      ]
     },
     "execution_count": 64,
     "metadata": {},
     "output_type": "execute_result"
    }
   ],
   "source": [
    "r2_score(y_test, y_pred)"
   ]
  },
  {
   "cell_type": "code",
   "execution_count": 65,
   "id": "1eb03cac",
   "metadata": {},
   "outputs": [
    {
     "data": {
      "text/plain": [
       "6670.303414306363"
      ]
     },
     "execution_count": 65,
     "metadata": {},
     "output_type": "execute_result"
    }
   ],
   "source": [
    "np.sqrt(mean_squared_error(y_test, y_pred))\n"
   ]
  },
  {
   "cell_type": "code",
   "execution_count": 66,
   "id": "07da82fa",
   "metadata": {},
   "outputs": [
    {
     "data": {
      "text/plain": [
       "GridSearchCV(estimator=DecisionTreeRegressor(random_state=0),\n",
       "             param_grid={'max_depth': (None, 2, 4, 6, 8, 10, 12)},\n",
       "             scoring='neg_mean_squared_error')"
      ]
     },
     "execution_count": 66,
     "metadata": {},
     "output_type": "execute_result"
    }
   ],
   "source": [
    "from sklearn.model_selection import GridSearchCV\n",
    "\n",
    "max_depth= (None,2,4,6,8,10,12)\n",
    "parameters={\"max_depth\":max_depth}\n",
    "  \n",
    "regressor=DecisionTreeRegressor(random_state=0)\n",
    "gs=GridSearchCV(regressor,parameters,scoring=\"neg_mean_squared_error\")\n",
    "gs.fit(x_train,y_train)\n",
    "    "
   ]
  },
  {
   "cell_type": "code",
   "execution_count": 67,
   "id": "66bdc854",
   "metadata": {},
   "outputs": [],
   "source": [
    "regressor=gs.best_estimator_\n"
   ]
  },
  {
   "cell_type": "code",
   "execution_count": 68,
   "id": "c1807c27",
   "metadata": {},
   "outputs": [],
   "source": [
    "y_pred = regressor.predict(x_test)"
   ]
  },
  {
   "cell_type": "code",
   "execution_count": 69,
   "id": "3b62cf8d",
   "metadata": {},
   "outputs": [
    {
     "data": {
      "text/plain": [
       "4709.836072263198"
      ]
     },
     "execution_count": 69,
     "metadata": {},
     "output_type": "execute_result"
    }
   ],
   "source": [
    "np.sqrt(mean_squared_error(y_test, y_pred))"
   ]
  },
  {
   "cell_type": "code",
   "execution_count": 70,
   "id": "e7f97628",
   "metadata": {},
   "outputs": [
    {
     "data": {
      "text/plain": [
       "0.8486293772394256"
      ]
     },
     "execution_count": 70,
     "metadata": {},
     "output_type": "execute_result"
    }
   ],
   "source": [
    "r2_score(y_test, y_pred)"
   ]
  },
  {
   "cell_type": "code",
   "execution_count": 76,
   "id": "bba7d9bf",
   "metadata": {},
   "outputs": [
    {
     "name": "stdout",
     "output_type": "stream",
     "text": [
      "insurance cost is [19666.41062083]\n"
     ]
    }
   ],
   "source": [
    "input_data=(31,1,25.74,0,1,0)\n",
    "#chaging imputdata as numpy array\n",
    "np_data=np.asarray(input_data)\n",
    "#reshape array\n",
    "data_reshape=np_data.reshape(1,-1)\n",
    "prediction=regressor.predict(data_reshape)\n",
    "print(\"insurance cost is\",prediction)\n"
   ]
  },
  {
   "cell_type": "code",
   "execution_count": 77,
   "id": "bb89e75b",
   "metadata": {},
   "outputs": [],
   "source": [
    "import pickle"
   ]
  },
  {
   "cell_type": "code",
   "execution_count": 79,
   "id": "f1f5b0e5",
   "metadata": {},
   "outputs": [],
   "source": [
    "filename = \"trained_model.sav\"\n",
    "pickle.dump(regressor, open(filename,\"wb\"))"
   ]
  },
  {
   "cell_type": "code",
   "execution_count": 80,
   "id": "1af0bca0",
   "metadata": {},
   "outputs": [],
   "source": [
    "loaded_model=pickle.load(open(\"trained_model.sav\",\"rb\"))"
   ]
  },
  {
   "cell_type": "code",
   "execution_count": 81,
   "id": "4fae8e34",
   "metadata": {},
   "outputs": [
    {
     "name": "stdout",
     "output_type": "stream",
     "text": [
      "insurance cost is [19666.41062083]\n"
     ]
    }
   ],
   "source": [
    "input_data=(31,1,25.74,0,1,0)\n",
    "#chaging imputdata as numpy array\n",
    "np_data=np.asarray(input_data)\n",
    "#reshape array\n",
    "data_reshape=np_data.reshape(1,-1)\n",
    "prediction=loaded_model.predict(data_reshape)\n",
    "print(\"insurance cost is\",prediction)\n"
   ]
  },
  {
   "cell_type": "code",
   "execution_count": null,
   "id": "cb1a9c4a",
   "metadata": {},
   "outputs": [],
   "source": []
  },
  {
   "cell_type": "code",
   "execution_count": null,
   "id": "411b6b2d",
   "metadata": {},
   "outputs": [],
   "source": []
  }
 ],
 "metadata": {
  "kernelspec": {
   "display_name": "Python 3",
   "language": "python",
   "name": "python3"
  },
  "language_info": {
   "codemirror_mode": {
    "name": "ipython",
    "version": 3
   },
   "file_extension": ".py",
   "mimetype": "text/x-python",
   "name": "python",
   "nbconvert_exporter": "python",
   "pygments_lexer": "ipython3",
   "version": "3.8.8"
  }
 },
 "nbformat": 4,
 "nbformat_minor": 5
}
